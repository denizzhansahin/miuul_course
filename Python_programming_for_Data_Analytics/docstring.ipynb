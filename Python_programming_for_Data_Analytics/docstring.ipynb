{
 "cells": [
  {
   "cell_type": "markdown",
   "metadata": {},
   "source": [
    "Bir fonksiyonun açıklaması yapılır"
   ]
  },
  {
   "cell_type": "code",
   "execution_count": 4,
   "metadata": {},
   "outputs": [],
   "source": [
    "def summer(arg1,arg2):\n",
    "    \"\"\"\n",
    "    Bu fonskiyon toplama işi yapılır\n",
    "\n",
    "    Parameters/Args\n",
    "    ----------\n",
    "    arg1 : int, float\n",
    "    arg2 : int, float\n",
    "\n",
    "    Return\n",
    "    -------------\n",
    "    int,float\n",
    "    \"\"\"\n",
    "    print(arg1+arg2)"
   ]
  },
  {
   "cell_type": "code",
   "execution_count": 5,
   "metadata": {},
   "outputs": [
    {
     "name": "stdout",
     "output_type": "stream",
     "text": [
      "Help on function summer in module __main__:\n",
      "\n",
      "summer(arg1, arg2)\n",
      "    Bu fonskiyon toplama işi yapılır\n",
      "    \n",
      "    Parameters/Args\n",
      "    ----------\n",
      "    arg1 : int, float\n",
      "    arg2 : int, float\n",
      "    \n",
      "    Return\n",
      "    -------------\n",
      "    int,float\n",
      "\n"
     ]
    }
   ],
   "source": [
    "help(summer)"
   ]
  },
  {
   "cell_type": "code",
   "execution_count": 6,
   "metadata": {},
   "outputs": [
    {
     "name": "stdout",
     "output_type": "stream",
     "text": [
      "\u001b[1;31mSignature:\u001b[0m \u001b[0msummer\u001b[0m\u001b[1;33m(\u001b[0m\u001b[0marg1\u001b[0m\u001b[1;33m,\u001b[0m \u001b[0marg2\u001b[0m\u001b[1;33m)\u001b[0m\u001b[1;33m\u001b[0m\u001b[1;33m\u001b[0m\u001b[0m\n",
      "\u001b[1;31mDocstring:\u001b[0m\n",
      "Bu fonskiyon toplama işi yapılır\n",
      "\n",
      "Parameters/Args\n",
      "----------\n",
      "arg1 : int, float\n",
      "arg2 : int, float\n",
      "\n",
      "Return\n",
      "-------------\n",
      "int,float\n",
      "\u001b[1;31mFile:\u001b[0m      c:\\users\\densh\\appdata\\local\\temp\\ipykernel_19056\\3861655272.py\n",
      "\u001b[1;31mType:\u001b[0m      function"
     ]
    }
   ],
   "source": [
    "?summer"
   ]
  },
  {
   "cell_type": "code",
   "execution_count": 7,
   "metadata": {},
   "outputs": [
    {
     "name": "stdout",
     "output_type": "stream",
     "text": [
      "Object `summer()` not found.\n"
     ]
    }
   ],
   "source": [
    "?summer()"
   ]
  },
  {
   "cell_type": "code",
   "execution_count": 8,
   "metadata": {},
   "outputs": [
    {
     "name": "stdout",
     "output_type": "stream",
     "text": [
      "Object `summer(1,2)` not found.\n"
     ]
    }
   ],
   "source": [
    "?summer(1,2)"
   ]
  },
  {
   "cell_type": "code",
   "execution_count": null,
   "metadata": {},
   "outputs": [],
   "source": []
  }
 ],
 "metadata": {
  "kernelspec": {
   "display_name": "Python 3",
   "language": "python",
   "name": "python3"
  },
  "language_info": {
   "codemirror_mode": {
    "name": "ipython",
    "version": 3
   },
   "file_extension": ".py",
   "mimetype": "text/x-python",
   "name": "python",
   "nbconvert_exporter": "python",
   "pygments_lexer": "ipython3",
   "version": "3.9.13"
  }
 },
 "nbformat": 4,
 "nbformat_minor": 2
}
