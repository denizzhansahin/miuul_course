{
 "cells": [
  {
   "cell_type": "code",
   "execution_count": 2,
   "metadata": {},
   "outputs": [
    {
     "name": "stdout",
     "output_type": "stream",
     "text": [
      "MeRhAbA BeNiM AdIm dEnIzHaN\n"
     ]
    }
   ],
   "source": [
    "def alternating_with_enumerate(string):\n",
    "    new_string =\"\"\n",
    "    for i, letter in enumerate(string):\n",
    "        if i%2 == 0:\n",
    "            new_string += letter.upper()\n",
    "        else:\n",
    "            new_string += letter.lower()\n",
    "    print(new_string)\n",
    "\n",
    "alternating_with_enumerate(\"merhaba benim adım denizhan\")"
   ]
  },
  {
   "cell_type": "code",
   "execution_count": null,
   "metadata": {},
   "outputs": [],
   "source": []
  }
 ],
 "metadata": {
  "kernelspec": {
   "display_name": "Python 3",
   "language": "python",
   "name": "python3"
  },
  "language_info": {
   "codemirror_mode": {
    "name": "ipython",
    "version": 3
   },
   "file_extension": ".py",
   "mimetype": "text/x-python",
   "name": "python",
   "nbconvert_exporter": "python",
   "pygments_lexer": "ipython3",
   "version": "3.9.13"
  }
 },
 "nbformat": 4,
 "nbformat_minor": 2
}
