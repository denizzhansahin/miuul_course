{
 "cells": [
  {
   "cell_type": "code",
   "execution_count": 1,
   "metadata": {},
   "outputs": [
    {
     "data": {
      "text/plain": [
       "range(0, 4)"
      ]
     },
     "execution_count": 1,
     "metadata": {},
     "output_type": "execute_result"
    }
   ],
   "source": [
    "range(len(\"miul\"))"
   ]
  },
  {
   "cell_type": "code",
   "execution_count": 2,
   "metadata": {},
   "outputs": [
    {
     "name": "stdout",
     "output_type": "stream",
     "text": [
      "0\n",
      "1\n",
      "2\n",
      "3\n"
     ]
    }
   ],
   "source": [
    "for i in range(len(\"miul\")):\n",
    "    print(i)"
   ]
  },
  {
   "cell_type": "code",
   "execution_count": 12,
   "metadata": {},
   "outputs": [],
   "source": [
    "def alternating(string):\n",
    "    new_string = \"\"\n",
    "    for string_index in range(len(string)):\n",
    "        print(string_index)\n",
    "        if string_index%2==0:\n",
    "            print(string[string_index].upper())\n",
    "            new_string += string[string_index].upper()\n",
    "        else:\n",
    "            print(string[string_index])\n",
    "            new_string += string[string_index]\n",
    "    print(\"Öncesi\",string,sep=\":\")\n",
    "    print(\"Sonrası\",new_string,sep=\":\")\n",
    "    return new_string"
   ]
  },
  {
   "cell_type": "code",
   "execution_count": 13,
   "metadata": {},
   "outputs": [
    {
     "name": "stdout",
     "output_type": "stream",
     "text": [
      "0\n",
      "M\n",
      "1\n",
      "e\n",
      "2\n",
      "R\n",
      "3\n",
      "h\n",
      "4\n",
      "A\n",
      "5\n",
      "b\n",
      "6\n",
      "A\n",
      "Öncesi:Merhaba\n",
      "Sonrası:MeRhAbA\n"
     ]
    },
    {
     "data": {
      "text/plain": [
       "'MeRhAbA'"
      ]
     },
     "execution_count": 13,
     "metadata": {},
     "output_type": "execute_result"
    }
   ],
   "source": [
    "alternating(\"Merhaba\")"
   ]
  },
  {
   "cell_type": "code",
   "execution_count": null,
   "metadata": {},
   "outputs": [],
   "source": []
  }
 ],
 "metadata": {
  "kernelspec": {
   "display_name": "Python 3",
   "language": "python",
   "name": "python3"
  },
  "language_info": {
   "codemirror_mode": {
    "name": "ipython",
    "version": 3
   },
   "file_extension": ".py",
   "mimetype": "text/x-python",
   "name": "python",
   "nbconvert_exporter": "python",
   "pygments_lexer": "ipython3",
   "version": "3.9.13"
  }
 },
 "nbformat": 4,
 "nbformat_minor": 2
}
